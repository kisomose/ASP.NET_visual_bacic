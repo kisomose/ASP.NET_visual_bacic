{
  "nbformat": 4,
  "nbformat_minor": 0,
  "metadata": {
    "colab": {
      "provenance": [],
      "authorship_tag": "ABX9TyP29J/15VqGON19yvoEneLq",
      "include_colab_link": true
    },
    "kernelspec": {
      "name": "python3",
      "display_name": "Python 3"
    },
    "language_info": {
      "name": "python"
    }
  },
  "cells": [
    {
      "cell_type": "markdown",
      "metadata": {
        "id": "view-in-github",
        "colab_type": "text"
      },
      "source": [
        "<a href=\"https://colab.research.google.com/github/kisomose/ASP.NET_visual_bacic/blob/main/pythonBasicAndFunction.ipynb\" target=\"_parent\"><img src=\"https://colab.research.google.com/assets/colab-badge.svg\" alt=\"Open In Colab\"/></a>"
      ]
    },
    {
      "cell_type": "code",
      "source": [
        "a=5\n",
        "b=4\n",
        "c = a+b\n",
        "print(c)"
      ],
      "metadata": {
        "id": "WIEjtaXbsIYd",
        "colab": {
          "base_uri": "https://localhost:8080/"
        },
        "outputId": "11e6335e-abec-477d-c63b-1853a8f7fb6c"
      },
      "execution_count": null,
      "outputs": [
        {
          "output_type": "stream",
          "name": "stdout",
          "text": [
            "9\n"
          ]
        }
      ]
    },
    {
      "cell_type": "markdown",
      "source": [
        "if condition\n"
      ],
      "metadata": {
        "id": "y5W7lC2SqTq9"
      }
    },
    {
      "cell_type": "code",
      "source": [
        "a =100\n",
        "b=100\n",
        "\n",
        "if(a<b):\n",
        "  print(\"a is less than b\")\n",
        "elif(a==b):\n",
        "   print(\"a is equal to b\")\n",
        "else:\n",
        "  print(\"a is not less than b\")"
      ],
      "metadata": {
        "colab": {
          "base_uri": "https://localhost:8080/"
        },
        "id": "6CQS1PviqRTp",
        "outputId": "87b3a8bd-a30e-4816-f7d1-0759386d16b1"
      },
      "execution_count": null,
      "outputs": [
        {
          "output_type": "stream",
          "name": "stdout",
          "text": [
            "a is equal to b\n"
          ]
        }
      ]
    },
    {
      "cell_type": "markdown",
      "source": [
        "while\n"
      ],
      "metadata": {
        "id": "r0IACKUhrGDb"
      }
    },
    {
      "cell_type": "code",
      "source": [
        "i =0\n",
        "while (i<11):\n",
        "  print(i)\n",
        "  i+=1"
      ],
      "metadata": {
        "colab": {
          "base_uri": "https://localhost:8080/"
        },
        "id": "Ehs3Xv_UrIzW",
        "outputId": "eca809cc-ad1e-4418-f2b1-9037bb96dbb7"
      },
      "execution_count": null,
      "outputs": [
        {
          "output_type": "stream",
          "name": "stdout",
          "text": [
            "0\n",
            "1\n",
            "2\n",
            "3\n",
            "4\n",
            "5\n",
            "6\n",
            "7\n",
            "8\n",
            "9\n",
            "10\n"
          ]
        }
      ]
    },
    {
      "cell_type": "markdown",
      "source": [
        "while - break & continue"
      ],
      "metadata": {
        "id": "Gk4p6Au6I5xe"
      }
    },
    {
      "cell_type": "code",
      "source": [
        "i = 0\n",
        "while i <10:\n",
        "  print(i)\n",
        "  i+=1\n",
        "  if i==7:\n",
        "    print(\"a is equal to 7\")\n",
        "  else:\n",
        "    print(\"Continueeeeeeeee....\")"
      ],
      "metadata": {
        "colab": {
          "base_uri": "https://localhost:8080/"
        },
        "id": "6Ln5VMOnJAgI",
        "outputId": "3f66db92-df81-48a6-99d6-86ef9cae6d64"
      },
      "execution_count": null,
      "outputs": [
        {
          "output_type": "stream",
          "name": "stdout",
          "text": [
            "0\n",
            "Continueeeeeeeee....\n",
            "1\n",
            "Continueeeeeeeee....\n",
            "2\n",
            "Continueeeeeeeee....\n",
            "3\n",
            "Continueeeeeeeee....\n",
            "4\n",
            "Continueeeeeeeee....\n",
            "5\n",
            "Continueeeeeeeee....\n",
            "6\n",
            "a is equal to 7\n",
            "7\n",
            "Continueeeeeeeee....\n",
            "8\n",
            "Continueeeeeeeee....\n",
            "9\n",
            "Continueeeeeeeee....\n"
          ]
        }
      ]
    },
    {
      "cell_type": "markdown",
      "source": [
        "for range"
      ],
      "metadata": {
        "id": "rHJBMXF0r4HK"
      }
    },
    {
      "cell_type": "code",
      "source": [
        "for i in range (1,9,3):\n",
        "  print(i)"
      ],
      "metadata": {
        "colab": {
          "base_uri": "https://localhost:8080/"
        },
        "id": "7-Z6Znwjr3Re",
        "outputId": "aa38cdc2-20e7-47ce-b3c4-f27e9e2c67fd"
      },
      "execution_count": null,
      "outputs": [
        {
          "output_type": "stream",
          "name": "stdout",
          "text": [
            "1\n",
            "4\n",
            "7\n"
          ]
        }
      ]
    }
  ]
}